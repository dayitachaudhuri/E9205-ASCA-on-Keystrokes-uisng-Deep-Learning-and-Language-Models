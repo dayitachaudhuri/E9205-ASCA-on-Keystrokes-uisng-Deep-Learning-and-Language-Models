{
 "cells": [
  {
   "cell_type": "code",
   "execution_count": 56,
   "metadata": {},
   "outputs": [
    {
     "name": "stdout",
     "output_type": "stream",
     "text": [
      "env: CUDA_VISIBLE_DEVICES=1,2\n"
     ]
    }
   ],
   "source": [
    "%env CUDA_VISIBLE_DEVICES=1,2"
   ]
  },
  {
   "cell_type": "markdown",
   "metadata": {},
   "source": [
    "#### Imports"
   ]
  },
  {
   "cell_type": "code",
   "execution_count": 57,
   "metadata": {},
   "outputs": [],
   "source": [
    "from torch.utils.data import DataLoader\n",
    "\n",
    "import torch\n",
    "import torch.nn as nn\n",
    "import torch.optim as optim\n",
    "from torch.optim.lr_scheduler import ReduceLROnPlateau\n",
    "import os\n",
    "import numpy as np\n",
    "import librosa\n",
    "import matplotlib.pyplot as plt\n",
    "from tqdm import tqdm \n",
    "from torch.utils.data import Dataset\n",
    "import torch"
   ]
  },
  {
   "cell_type": "markdown",
   "metadata": {},
   "source": [
    "#### Utils"
   ]
  },
  {
   "cell_type": "code",
   "execution_count": 5,
   "metadata": {},
   "outputs": [],
   "source": [
    "import json\n",
    "\n",
    "with open('config.json', 'r') as f:\n",
    "    config = json.load(f)\n",
    "\n",
    "DATASET_PATH = config['DATASET_PATH']['all']\n",
    "MAC_DATASET_PATH = config['DATASET_PATH']['mac']\n",
    "LENOVO_DATASET_PATH = config['DATASET_PATH']['lenovo']"
   ]
  },
  {
   "cell_type": "code",
   "execution_count": 6,
   "metadata": {},
   "outputs": [
    {
     "name": "stdout",
     "output_type": "stream",
     "text": [
      "Using device: cuda\n"
     ]
    }
   ],
   "source": [
    "device = torch.device(\"cuda\" if torch.cuda.is_available() else \"cpu\")\n",
    "print(f\"Using device: {device}\")"
   ]
  },
  {
   "cell_type": "markdown",
   "metadata": {},
   "source": [
    "## 1. Create Dataset fot Training"
   ]
  },
  {
   "cell_type": "markdown",
   "metadata": {},
   "source": [
    "### 1.1 Audio Keystroke Dataset"
   ]
  },
  {
   "cell_type": "code",
   "execution_count": null,
   "metadata": {},
   "outputs": [],
   "source": [
    "def extract_label_and_device(filepath, full_dataset=False):\n",
    "    filepath = filepath.replace(\"\\\\\", \"/\")\n",
    "    parts = filepath.split(\"/\")\n",
    "\n",
    "    if \"ProcessedWithImage\" in parts:\n",
    "        label = parts[-3].lower()\n",
    "        combined = parts[-2].lower()\n",
    "        if combined.startswith(label):\n",
    "            device = combined[len(label):]\n",
    "        else:\n",
    "            device = \"unknown\"\n",
    "        # Debug print\n",
    "    elif full_dataset:\n",
    "        label = os.path.basename(os.path.dirname(filepath)).lower()\n",
    "        filename = os.path.splitext(os.path.basename(filepath))[0].lower()\n",
    "        if filename.startswith(label):\n",
    "            device = filename[len(label):] \n",
    "        else:\n",
    "            device = \"unknown\"\n",
    "    else:\n",
    "        parts = filepath.split(\"/\")\n",
    "        device = parts[-3].lower()\n",
    "        label = os.path.splitext(os.path.basename(filepath))[0].lower()\n",
    "\n",
    "    return label, device\n",
    "\n",
    "def visualize_keystrokes(audio, sr, segment_starts, title=\"Detected Keystrokes\"):\n",
    "    plt.figure(figsize=(12, 3))\n",
    "    librosa.display.waveshow(audio, sr=sr)\n",
    "    for start_time in segment_starts:\n",
    "        plt.axvline(start_time, color='red', linestyle='--')\n",
    "    plt.title(title)\n",
    "    plt.show()\n",
    "    \n",
    "def add_noise(audio, noise_level=0.005):\n",
    "    noise = np.random.randn(len(audio))\n",
    "    augmented = audio + noise_level * noise\n",
    "    return augmented.astype(np.float32)\n",
    "\n",
    "def random_gain(audio, min_gain=0.8, max_gain=1.2):\n",
    "    gain = np.random.uniform(min_gain, max_gain)\n",
    "    return audio * gain\n",
    "\n",
    "def pitch_shift(audio, sr, n_steps=1):\n",
    "    return librosa.effects.pitch_shift(audio, sr=sr, n_steps=n_steps)\n",
    "\n",
    "def time_shift(segment, max_shift_percentage=0.4):\n",
    "    # Calculate the maximum shift in samples\n",
    "    max_shift = int(len(segment) * max_shift_percentage)\n",
    "    # Take a random integer shift within the range [-max_shift, max_shift]\n",
    "    shift = np.random.randint(-max_shift, max_shift)\n",
    "    # Shift the segment\n",
    "    shifted_segment = np.roll(segment, shift)\n",
    "    # Zero out the wrapped portion to avoid artifacts\n",
    "    if shift > 0:\n",
    "        shifted_segment[:shift] = 0\n",
    "    elif shift < 0:\n",
    "        shifted_segment[shift:] = 0\n",
    "    return shifted_segment\n",
    "\n",
    "def generate_mel_spectrogram(segment, sr, n_mels=64, n_fft=1024, hop_length=225):\n",
    "    S = librosa.feature.melspectrogram(y=segment, sr=sr, n_fft=n_fft,  hop_length=hop_length, n_mels=n_mels)\n",
    "    S_dB = librosa.power_to_db(S, ref=np.max)\n",
    "    return S_dB\n",
    "\n",
    "def spec_augment(spectrogram, time_mask_percentage=0.1, freq_mask_percentage=0.1):\n",
    "    augmented_spec = spectrogram.copy()\n",
    "    n_mels, n_time = augmented_spec.shape\n",
    "    # Calculate mask lengths\n",
    "    time_mask_length = max(1, int(n_time * time_mask_percentage))\n",
    "    freq_mask_length = max(1, int(n_mels * freq_mask_percentage))\n",
    "    # Mask Value (mean of spectrogram)\n",
    "    mask_value = np.mean(augmented_spec)\n",
    "    # Apply Time Mask: Select a random start point and mask time steps across all frequencies\n",
    "    time_start = np.random.randint(0, n_time - time_mask_length + 1)\n",
    "    augmented_spec[:, time_start:time_start + time_mask_length] = mask_value\n",
    "    # Apply Frequency Mask: Select a random start point and mask frequency bins across all time steps\n",
    "    freq_start = np.random.randint(0, n_mels - freq_mask_length + 1)\n",
    "    augmented_spec[freq_start:freq_start + freq_mask_length, :] = mask_value\n",
    "    return augmented_spec\n",
    "\n",
    "class AudioKeystrokeDataset(Dataset):\n",
    "    def __init__(self, dataset_path, energy_threshold=100, segment_length=14400,\n",
    "                 sr=44100, n_fft=1024, hop_length=256, n_mels=64, spec_hop_length=500,\n",
    "                 target_keystrokes=35, full_dataset=False):\n",
    "        self.dataset_path = dataset_path\n",
    "        self.energy_threshold = energy_threshold\n",
    "        self.segment_length = segment_length\n",
    "        self.sr = sr\n",
    "        self.n_fft = n_fft\n",
    "        self.hop_length = hop_length\n",
    "        self.n_mels = n_mels\n",
    "        self.spec_hop_length = spec_hop_length\n",
    "        self.target_keystrokes = target_keystrokes\n",
    "        self.full_dataset = full_dataset\n",
    "        \n",
    "        # List to store file paths and their corresponding labels.\n",
    "        self.files_and_labels = []\n",
    "        self._prepare_dataset()\n",
    "        \n",
    "        # Build a mapping from string labels to integer indices.\n",
    "        self.label2idx = {label: idx for idx, label in enumerate(sorted(self.get_labels()))}\n",
    "        self.device2idx = {device: idx for idx, device in enumerate(sorted(self.get_devices()))}\n",
    "        \n",
    "    def _prepare_dataset(self):\n",
    "        # Gather all .wav file paths for tqdm progress bar.\n",
    "        all_files = []\n",
    "        for root, _, files in os.walk(self.dataset_path):\n",
    "            for file in files:\n",
    "                if file.endswith('.wav'):\n",
    "                    all_files.append(os.path.join(root, file))\n",
    "                    \n",
    "        # Store the file paths with their respective labels.\n",
    "        for file_path in tqdm(all_files, desc=\"Processing Audio Files\"):\n",
    "            label, device_id = extract_label_and_device(file_path, self.full_dataset)\n",
    "            self.files_and_labels.append((file_path, label, device_id))\n",
    "    \n",
    "    def __len__(self):\n",
    "        return len(self.files_and_labels)\n",
    "    \n",
    "    def __getitem__(self, idx):\n",
    "        file_path, label, device = self.files_and_labels[idx]\n",
    "        # Load the audio file\n",
    "        try:\n",
    "            audio, sr = librosa.load(file_path, sr=self.sr)\n",
    "        except Exception as e:\n",
    "            print(f\"Error loading {file_path}: {e}\")\n",
    "            return None\n",
    "        \n",
    "        # Apply random time shift for data augmentation\n",
    "        augmented_segment = time_shift(audio)\n",
    "        \n",
    "        # Apply other data augmentations.\n",
    "        if np.random.rand() < 0.5:\n",
    "            augmented_segment = add_noise(augmented_segment)\n",
    "        if np.random.rand() < 0.5:\n",
    "            augmented_segment = random_gain(augmented_segment)\n",
    "        if np.random.rand() < 0.2:\n",
    "            augmented_segment = pitch_shift(augmented_segment, sr, n_steps=np.random.uniform(-1, 1))\n",
    "        \n",
    "        # Generate mel-spectrogram\n",
    "        mel_spec = generate_mel_spectrogram(\n",
    "            augmented_segment, sr, n_mels=self.n_mels,\n",
    "            n_fft=self.n_fft, hop_length=self.spec_hop_length\n",
    "        )\n",
    "        \n",
    "        # Apply SpecAugment\n",
    "        mel_spec_aug = spec_augment(mel_spec)\n",
    "        \n",
    "        # Normalize the spectrogram to the range [0, 1]\n",
    "        mel_spec_aug = (mel_spec_aug - mel_spec_aug.min()) / (mel_spec_aug.max() - mel_spec_aug.min() + 1e-6)\n",
    "        \n",
    "        # Map the string label to an integer using the label mapping\n",
    "        label_idx = self.label2idx[label]\n",
    "        device_idx = self.device2idx[device]\n",
    "        \n",
    "        # Convert the label to a torch tensor\n",
    "        label_tensor = torch.tensor(label_idx, dtype=torch.long)\n",
    "        device_tensor = torch.tensor(device_idx, dtype=torch.long)\n",
    "        \n",
    "        return mel_spec_aug, label_tensor, device_tensor\n",
    "    \n",
    "    def get_labels(self):\n",
    "        return list(set(label for _, label, _ in self.files_and_labels))\n",
    "    \n",
    "    def get_devices(self):\n",
    "        return list(set(device for _, _, device in self.files_and_labels))"
   ]
  },
  {
   "cell_type": "markdown",
   "metadata": {},
   "source": [
    "### 1.2 Create Datasets"
   ]
  },
  {
   "cell_type": "code",
   "execution_count": 109,
   "metadata": {},
   "outputs": [
    {
     "name": "stderr",
     "output_type": "stream",
     "text": [
      "Processing Audio Files: 100%|██████████| 11246/11246 [00:00<00:00, 710474.96it/s]"
     ]
    },
    {
     "name": "stdout",
     "output_type": "stream",
     "text": [
      "Dataset contains 11246 keystroke samples.\n"
     ]
    },
    {
     "name": "stderr",
     "output_type": "stream",
     "text": [
      "\n"
     ]
    }
   ],
   "source": [
    "dataset = AudioKeystrokeDataset('data/ProcessedWithImage/', full_dataset=True)\n",
    "print(f\"Dataset contains {len(dataset)} keystroke samples.\")"
   ]
  },
  {
   "cell_type": "code",
   "execution_count": 10,
   "metadata": {},
   "outputs": [],
   "source": [
    "with open(\"data/label2idx.json\", \"w\") as f:\n",
    "    json.dump(dataset.label2idx, f)\n",
    "with open(\"data/device2idx.json\", \"w\") as f:\n",
    "    json.dump(dataset.device2idx, f)"
   ]
  },
  {
   "cell_type": "code",
   "execution_count": 110,
   "metadata": {},
   "outputs": [
    {
     "name": "stdout",
     "output_type": "stream",
     "text": [
      "Training dataset size: 8996\n",
      "Validation dataset size: 1125\n",
      "Testing dataset size: 1125\n"
     ]
    }
   ],
   "source": [
    "from sklearn.model_selection import StratifiedShuffleSplit\n",
    "from torch.utils.data import Subset, DataLoader\n",
    "import numpy as np\n",
    "\n",
    "# Step 1: Get labels per sample\n",
    "all_labels = [dataset.label2idx[label] for _, label, _ in dataset.files_and_labels]\n",
    "all_labels = np.array(all_labels)\n",
    "\n",
    "# Step 2: First stratified split (train vs val+test)\n",
    "sss1 = StratifiedShuffleSplit(n_splits=1, test_size=0.2, random_state=42)\n",
    "for train_idx, valtest_idx in sss1.split(np.zeros(len(all_labels)), all_labels):\n",
    "    train_dataset = Subset(dataset, train_idx)\n",
    "    valtest_labels = all_labels[valtest_idx]\n",
    "    valtest_dataset = Subset(dataset, valtest_idx)\n",
    "\n",
    "# Step 3: Second stratified split (val vs test)\n",
    "sss2 = StratifiedShuffleSplit(n_splits=1, test_size=0.5, random_state=42)\n",
    "for val_idx, test_idx in sss2.split(np.zeros(len(valtest_labels)), valtest_labels):\n",
    "    val_dataset = Subset(valtest_dataset, val_idx)\n",
    "    test_dataset = Subset(valtest_dataset, test_idx)\n",
    "\n",
    "# Step 4: Print final sizes\n",
    "print(f\"Training dataset size: {len(train_dataset)}\")\n",
    "print(f\"Validation dataset size: {len(val_dataset)}\")\n",
    "print(f\"Testing dataset size: {len(test_dataset)}\")\n",
    "\n",
    "# Step 5: DataLoader creation\n",
    "train_loader = DataLoader(dataset, batch_size=32, num_workers=4, shuffle=True)\n",
    "val_loader = DataLoader(val_dataset, batch_size=32, num_workers=4, shuffle=False)\n",
    "test_loader = DataLoader(test_dataset, batch_size=32, num_workers=4, shuffle=False)"
   ]
  },
  {
   "cell_type": "markdown",
   "metadata": {},
   "source": [
    "## 2. Create Model"
   ]
  },
  {
   "cell_type": "markdown",
   "metadata": {},
   "source": [
    "### 2.1 Model Definition"
   ]
  },
  {
   "cell_type": "code",
   "execution_count": 104,
   "metadata": {},
   "outputs": [],
   "source": [
    "class MBConv(nn.Module):\n",
    "    def __init__(self, in_channels, out_channels, kernel_size=3, stride=1, expand_ratio=4):\n",
    "        super(MBConv, self).__init__()\n",
    "        hidden_dim = in_channels * expand_ratio\n",
    "        self.use_residual = (stride == 1 and in_channels == out_channels)\n",
    "        self.conv = nn.Sequential(\n",
    "            # Expansion phase\n",
    "            nn.Conv2d(in_channels, hidden_dim, kernel_size=1, bias=False),\n",
    "            nn.BatchNorm2d(hidden_dim),\n",
    "            nn.ReLU(inplace=True),\n",
    "            nn.Dropout(0.1), \n",
    "            # Depthwise convolution\n",
    "            nn.Conv2d(hidden_dim, hidden_dim, kernel_size=kernel_size, stride=stride,\n",
    "                      padding=kernel_size // 2, groups=hidden_dim, bias=False),\n",
    "            nn.BatchNorm2d(hidden_dim),\n",
    "            nn.ReLU(inplace=True),\n",
    "            # Projection phase\n",
    "            nn.Dropout(0.1),\n",
    "            nn.Conv2d(hidden_dim, out_channels, kernel_size=1, bias=False),\n",
    "            nn.BatchNorm2d(out_channels)\n",
    "        )\n",
    "\n",
    "    def forward(self, x):\n",
    "        out = self.conv(x)\n",
    "        if self.use_residual:\n",
    "            return out + x\n",
    "        return out\n",
    "\n",
    "class TransformerBlock(nn.Module):\n",
    "    def __init__(self, embed_dim, num_heads, dropout=0.1):\n",
    "        super(TransformerBlock, self).__init__()\n",
    "        self.norm1 = nn.LayerNorm(embed_dim)\n",
    "        self.attn = nn.MultiheadAttention(embed_dim, num_heads, dropout=dropout)\n",
    "        self.norm2 = nn.LayerNorm(embed_dim)\n",
    "        self.ff = nn.Sequential(\n",
    "            nn.Linear(embed_dim, embed_dim * 4),\n",
    "            nn.GELU(),\n",
    "            nn.Linear(embed_dim * 4, embed_dim)\n",
    "        )\n",
    "        self.dropout = nn.Dropout(dropout)\n",
    "\n",
    "    def forward(self, x):\n",
    "        # x is expected to have shape (B, C, H, W)\n",
    "        B, C, H, W = x.shape\n",
    "        # Flatten spatial dimensions: (S, B, C) where S = H*W\n",
    "        x_flat = x.flatten(2).permute(2, 0, 1)\n",
    "        # Apply multi-head self-attention with residual connection\n",
    "        attn_out, _ = self.attn(self.norm1(x_flat), self.norm1(x_flat), self.norm1(x_flat))\n",
    "        x_flat = x_flat + self.dropout(attn_out)\n",
    "        # Feed-forward network with residual connection\n",
    "        ff_out = self.ff(self.norm2(x_flat))\n",
    "        x_flat = x_flat + self.dropout(ff_out)\n",
    "        # Reshape back to (B, C, H, W)\n",
    "        x = x_flat.permute(1, 2, 0).view(B, C, H, W)\n",
    "        return x\n",
    "\n",
    "class CoAtNet(nn.Module):\n",
    "    def __init__(self, num_classes=36, in_channels=1):\n",
    "        super(CoAtNet, self).__init__()\n",
    "        \n",
    "        # Stem: initial convolution to reduce spatial dimensions\n",
    "        self.stem = nn.Sequential(\n",
    "            nn.Conv2d(in_channels, 32, kernel_size=3, stride=2, padding=1, bias=False),\n",
    "            nn.BatchNorm2d(32),\n",
    "            nn.ReLU(inplace=True)\n",
    "        )\n",
    "        # Stage 1: Convolutional blocks (MBConv)\n",
    "        self.stage1 = nn.Sequential(\n",
    "            MBConv(32, 64, stride=2),\n",
    "            MBConv(64, 64, stride=1)\n",
    "        )\n",
    "        # Stage 2: Transformer blocks\n",
    "        self.stage2 = nn.Sequential(\n",
    "            TransformerBlock(embed_dim=64, num_heads=4),\n",
    "            TransformerBlock(embed_dim=64, num_heads=4)\n",
    "        )\n",
    "        # Classification head: global pooling and a linear classifier\n",
    "        self.pool = nn.AdaptiveAvgPool2d(1)\n",
    "        self.fc = nn.Linear(64, num_classes)\n",
    "\n",
    "    def forward(self, x):\n",
    "        # x expected shape: (B, 1, H, W)\n",
    "        x = self.stem(x)\n",
    "        x = self.stage1(x)\n",
    "        x = self.stage2(x)\n",
    "        x = self.pool(x)\n",
    "        x = x.view(x.size(0), -1)\n",
    "        # Fully Connected Layer\n",
    "        x = self.fc(x)\n",
    "        return x"
   ]
  },
  {
   "cell_type": "markdown",
   "metadata": {},
   "source": [
    "### 2.2 Trainer Class"
   ]
  },
  {
   "cell_type": "code",
   "execution_count": 72,
   "metadata": {},
   "outputs": [],
   "source": [
    "class Trainer:\n",
    "    def __init__(self, model, train_loader, val_loader, criterion, optimizer, device, scheduler=None, early_stopping_patience=10):\n",
    "        self.model = model.to(device)\n",
    "        self.train_loader = train_loader\n",
    "        self.val_loader = val_loader\n",
    "        self.criterion = criterion\n",
    "        self.optimizer = optimizer\n",
    "        self.device = device\n",
    "        self.scheduler = scheduler \n",
    "        self.early_stopping_patience = early_stopping_patience\n",
    "\n",
    "    def train_epoch(self):\n",
    "        self.model.train()\n",
    "        running_loss = 0.0\n",
    "        correct = 0\n",
    "        total = 0\n",
    "        for data, targets, device_ids in self.train_loader:\n",
    "            data, targets, device_ids = data.to(self.device), targets.to(self.device), device_ids.to(self.device)\n",
    "            if len(data.shape) == 3:\n",
    "                data = data.unsqueeze(1)\n",
    "            self.optimizer.zero_grad()\n",
    "            outputs = self.model(data)\n",
    "            loss = self.criterion(outputs, targets)\n",
    "            loss.backward()\n",
    "            self.optimizer.step()\n",
    "            running_loss += loss.item() * data.size(0)\n",
    "            _, predicted = torch.max(outputs, 1)\n",
    "            total += targets.size(0)\n",
    "            correct += (predicted == targets).sum().item()\n",
    "        epoch_loss = running_loss / total\n",
    "        epoch_acc = correct / total\n",
    "        return epoch_loss, epoch_acc\n",
    "\n",
    "    def validate(self):\n",
    "        self.model.eval()\n",
    "        running_loss = 0.0\n",
    "        correct = 0\n",
    "        total = 0\n",
    "        with torch.no_grad():\n",
    "            for data, targets, device_ids in self.val_loader:\n",
    "                data, targets, device_ids = data.to(self.device), targets.to(self.device), device_ids.to(self.device)\n",
    "                if len(data.shape) == 3:\n",
    "                    data = data.unsqueeze(1)\n",
    "                outputs = self.model(data)\n",
    "                loss = self.criterion(outputs, targets)\n",
    "                running_loss += loss.item() * data.size(0)\n",
    "                _, predicted = torch.max(outputs, 1)\n",
    "                total += targets.size(0)\n",
    "                correct += (predicted == targets).sum().item()\n",
    "        epoch_loss = running_loss / total\n",
    "        epoch_acc = correct / total\n",
    "        return epoch_loss, epoch_acc\n",
    "\n",
    "    def train(self, num_epochs, save_path=None, best_save_path=None, resume=False, load_path=None):\n",
    "        start_epoch = 0\n",
    "        best_val_acc = 0.0\n",
    "        patience_counter = 0\n",
    "\n",
    "        history = {\n",
    "            \"train_loss\": [],\n",
    "            \"train_acc\": [],\n",
    "            \"val_loss\": [],\n",
    "            \"val_acc\": []\n",
    "        }\n",
    "\n",
    "        if resume and load_path and os.path.exists(load_path):\n",
    "            checkpoint = torch.load(load_path)\n",
    "            self.model.load_state_dict(checkpoint['model_state_dict'])\n",
    "            start_epoch = checkpoint.get('epoch', 0)\n",
    "            best_val_acc = checkpoint.get('best_val_acc', 0.0)\n",
    "            print(f\"Resuming training from epoch {start_epoch}\")\n",
    "\n",
    "        for epoch in range(start_epoch, start_epoch + num_epochs):\n",
    "            train_loss, train_acc = self.train_epoch()\n",
    "            val_loss, val_acc = self.validate()\n",
    "\n",
    "            # Store metrics\n",
    "            history[\"train_loss\"].append(train_loss)\n",
    "            history[\"train_acc\"].append(train_acc)\n",
    "            history[\"val_loss\"].append(val_loss)\n",
    "            history[\"val_acc\"].append(val_acc)\n",
    "\n",
    "            print(f\"Epoch {epoch+1}/{start_epoch + num_epochs} | \"\n",
    "                f\"Train Loss: {train_loss:.4f}, Train Acc: {train_acc:.4f} | \"\n",
    "                f\"Val Loss: {val_loss:.4f}, Val Acc: {val_acc:.4f}\")\n",
    "\n",
    "            if self.scheduler:\n",
    "                self.scheduler.step(val_acc)\n",
    "\n",
    "            if save_path:\n",
    "                torch.save({\n",
    "                    'epoch': epoch + 1,\n",
    "                    'model_state_dict': self.model.state_dict(),\n",
    "                    'best_val_acc': best_val_acc\n",
    "                }, save_path)\n",
    "\n",
    "            if val_acc > best_val_acc:\n",
    "                best_val_acc = val_acc\n",
    "                patience_counter = 0\n",
    "                if best_save_path:\n",
    "                    torch.save({\n",
    "                        'epoch': epoch + 1,\n",
    "                        'model_state_dict': self.model.state_dict(),\n",
    "                        'best_val_acc': best_val_acc\n",
    "                    }, best_save_path)\n",
    "                    print(f\"Saved best model at epoch {epoch+1} with Val Acc: {best_val_acc:.4f}\")\n",
    "            else:\n",
    "                patience_counter += 1\n",
    "                if patience_counter >= self.early_stopping_patience:\n",
    "                    print(f\"Early stopping triggered at epoch {epoch+1}. No improvement in validation accuracy for {self.early_stopping_patience} epochs.\")\n",
    "                    break\n",
    "\n",
    "        return history"
   ]
  },
  {
   "cell_type": "markdown",
   "metadata": {},
   "source": [
    "### Model Training"
   ]
  },
  {
   "cell_type": "code",
   "execution_count": 70,
   "metadata": {},
   "outputs": [],
   "source": [
    "model = CoAtNet(num_classes=len(dataset.label2idx), in_channels=1)\n",
    "model = model.to(device)"
   ]
  },
  {
   "cell_type": "code",
   "execution_count": 73,
   "metadata": {},
   "outputs": [],
   "source": [
    "criterion = nn.CrossEntropyLoss()\n",
    "optimizer = optim.Adam(model.parameters(), lr=1e-3)"
   ]
  },
  {
   "cell_type": "code",
   "execution_count": 74,
   "metadata": {},
   "outputs": [],
   "source": [
    "trainer = Trainer(model, train_loader, val_loader, criterion, optimizer, device, early_stopping_patience=1000)"
   ]
  },
  {
   "cell_type": "code",
   "execution_count": 76,
   "metadata": {},
   "outputs": [
    {
     "name": "stdout",
     "output_type": "stream",
     "text": [
      "Epoch 1/150 | Train Loss: 4.2861, Train Acc: 0.0182 | Val Loss: 4.2509, Val Acc: 0.0213\n",
      "Saved best model at epoch 1 with Val Acc: 0.0213\n",
      "Epoch 2/150 | Train Loss: 4.2370, Train Acc: 0.0248 | Val Loss: 4.2013, Val Acc: 0.0231\n",
      "Saved best model at epoch 2 with Val Acc: 0.0231\n",
      "Epoch 3/150 | Train Loss: 4.1018, Train Acc: 0.0348 | Val Loss: 4.0488, Val Acc: 0.0391\n",
      "Saved best model at epoch 3 with Val Acc: 0.0391\n",
      "Epoch 4/150 | Train Loss: 3.8649, Train Acc: 0.0607 | Val Loss: 3.6879, Val Acc: 0.0853\n",
      "Saved best model at epoch 4 with Val Acc: 0.0853\n",
      "Epoch 5/150 | Train Loss: 3.6455, Train Acc: 0.0881 | Val Loss: 3.5109, Val Acc: 0.1031\n",
      "Saved best model at epoch 5 with Val Acc: 0.1031\n",
      "Epoch 6/150 | Train Loss: 3.4163, Train Acc: 0.1204 | Val Loss: 3.3232, Val Acc: 0.1440\n",
      "Saved best model at epoch 6 with Val Acc: 0.1440\n",
      "Epoch 7/150 | Train Loss: 3.2359, Train Acc: 0.1524 | Val Loss: 3.1433, Val Acc: 0.1769\n",
      "Saved best model at epoch 7 with Val Acc: 0.1769\n",
      "Epoch 8/150 | Train Loss: 3.0458, Train Acc: 0.1874 | Val Loss: 2.9004, Val Acc: 0.2258\n",
      "Saved best model at epoch 8 with Val Acc: 0.2258\n",
      "Epoch 9/150 | Train Loss: 2.8858, Train Acc: 0.2208 | Val Loss: 2.8420, Val Acc: 0.2178\n",
      "Epoch 10/150 | Train Loss: 2.7338, Train Acc: 0.2527 | Val Loss: 2.7661, Val Acc: 0.2320\n",
      "Saved best model at epoch 10 with Val Acc: 0.2320\n",
      "Epoch 11/150 | Train Loss: 2.5988, Train Acc: 0.2843 | Val Loss: 2.6409, Val Acc: 0.2898\n",
      "Saved best model at epoch 11 with Val Acc: 0.2898\n",
      "Epoch 12/150 | Train Loss: 2.4567, Train Acc: 0.3151 | Val Loss: 2.3528, Val Acc: 0.3360\n",
      "Saved best model at epoch 12 with Val Acc: 0.3360\n",
      "Epoch 13/150 | Train Loss: 2.3770, Train Acc: 0.3351 | Val Loss: 2.2544, Val Acc: 0.3698\n",
      "Saved best model at epoch 13 with Val Acc: 0.3698\n",
      "Epoch 14/150 | Train Loss: 2.2695, Train Acc: 0.3591 | Val Loss: 2.1595, Val Acc: 0.3893\n",
      "Saved best model at epoch 14 with Val Acc: 0.3893\n",
      "Epoch 15/150 | Train Loss: 2.1701, Train Acc: 0.3793 | Val Loss: 2.1488, Val Acc: 0.3760\n",
      "Epoch 16/150 | Train Loss: 2.1138, Train Acc: 0.3958 | Val Loss: 2.0183, Val Acc: 0.4249\n",
      "Saved best model at epoch 16 with Val Acc: 0.4249\n",
      "Epoch 17/150 | Train Loss: 2.0406, Train Acc: 0.4148 | Val Loss: 1.9280, Val Acc: 0.4382\n",
      "Saved best model at epoch 17 with Val Acc: 0.4382\n",
      "Epoch 18/150 | Train Loss: 1.9807, Train Acc: 0.4271 | Val Loss: 1.8432, Val Acc: 0.4533\n",
      "Saved best model at epoch 18 with Val Acc: 0.4533\n",
      "Epoch 19/150 | Train Loss: 1.9141, Train Acc: 0.4443 | Val Loss: 1.7844, Val Acc: 0.4933\n",
      "Saved best model at epoch 19 with Val Acc: 0.4933\n",
      "Epoch 20/150 | Train Loss: 1.8768, Train Acc: 0.4522 | Val Loss: 1.7575, Val Acc: 0.4916\n",
      "Epoch 21/150 | Train Loss: 1.8103, Train Acc: 0.4698 | Val Loss: 1.7129, Val Acc: 0.4916\n",
      "Epoch 22/150 | Train Loss: 1.8103, Train Acc: 0.4717 | Val Loss: 1.6348, Val Acc: 0.5236\n",
      "Saved best model at epoch 22 with Val Acc: 0.5236\n",
      "Epoch 23/150 | Train Loss: 1.7475, Train Acc: 0.4879 | Val Loss: 1.6611, Val Acc: 0.5076\n",
      "Epoch 24/150 | Train Loss: 1.7365, Train Acc: 0.4928 | Val Loss: 1.6313, Val Acc: 0.5013\n",
      "Epoch 25/150 | Train Loss: 1.6752, Train Acc: 0.5089 | Val Loss: 1.6261, Val Acc: 0.5280\n",
      "Saved best model at epoch 25 with Val Acc: 0.5280\n",
      "Epoch 26/150 | Train Loss: 1.6760, Train Acc: 0.5063 | Val Loss: 1.5851, Val Acc: 0.5333\n",
      "Saved best model at epoch 26 with Val Acc: 0.5333\n",
      "Epoch 27/150 | Train Loss: 1.6180, Train Acc: 0.5190 | Val Loss: 1.5754, Val Acc: 0.5316\n",
      "Epoch 28/150 | Train Loss: 1.5950, Train Acc: 0.5259 | Val Loss: 1.4839, Val Acc: 0.5564\n",
      "Saved best model at epoch 28 with Val Acc: 0.5564\n",
      "Epoch 29/150 | Train Loss: 1.5858, Train Acc: 0.5281 | Val Loss: 1.4524, Val Acc: 0.5707\n",
      "Saved best model at epoch 29 with Val Acc: 0.5707\n",
      "Epoch 30/150 | Train Loss: 1.5384, Train Acc: 0.5470 | Val Loss: 1.4243, Val Acc: 0.5671\n",
      "Epoch 31/150 | Train Loss: 1.5205, Train Acc: 0.5390 | Val Loss: 1.4779, Val Acc: 0.5653\n",
      "Epoch 32/150 | Train Loss: 1.5104, Train Acc: 0.5398 | Val Loss: 1.4490, Val Acc: 0.5778\n",
      "Saved best model at epoch 32 with Val Acc: 0.5778\n",
      "Epoch 33/150 | Train Loss: 1.4811, Train Acc: 0.5635 | Val Loss: 1.3804, Val Acc: 0.5884\n",
      "Saved best model at epoch 33 with Val Acc: 0.5884\n",
      "Epoch 34/150 | Train Loss: 1.4523, Train Acc: 0.5594 | Val Loss: 1.4161, Val Acc: 0.5751\n",
      "Epoch 35/150 | Train Loss: 1.4203, Train Acc: 0.5702 | Val Loss: 1.3811, Val Acc: 0.5804\n",
      "Epoch 36/150 | Train Loss: 1.4192, Train Acc: 0.5707 | Val Loss: 1.3217, Val Acc: 0.5911\n",
      "Saved best model at epoch 36 with Val Acc: 0.5911\n",
      "Epoch 37/150 | Train Loss: 1.3973, Train Acc: 0.5810 | Val Loss: 1.2806, Val Acc: 0.6302\n",
      "Saved best model at epoch 37 with Val Acc: 0.6302\n",
      "Epoch 38/150 | Train Loss: 1.3726, Train Acc: 0.5828 | Val Loss: 1.2449, Val Acc: 0.6213\n",
      "Epoch 39/150 | Train Loss: 1.3499, Train Acc: 0.5883 | Val Loss: 1.2434, Val Acc: 0.6329\n",
      "Saved best model at epoch 39 with Val Acc: 0.6329\n",
      "Epoch 40/150 | Train Loss: 1.3462, Train Acc: 0.5946 | Val Loss: 1.2554, Val Acc: 0.6160\n",
      "Epoch 41/150 | Train Loss: 1.3286, Train Acc: 0.6032 | Val Loss: 1.2806, Val Acc: 0.6098\n",
      "Epoch 42/150 | Train Loss: 1.3487, Train Acc: 0.5925 | Val Loss: 1.2518, Val Acc: 0.6293\n",
      "Epoch 43/150 | Train Loss: 1.3081, Train Acc: 0.5988 | Val Loss: 1.2022, Val Acc: 0.6258\n",
      "Epoch 44/150 | Train Loss: 1.3003, Train Acc: 0.6088 | Val Loss: 1.2470, Val Acc: 0.6142\n",
      "Epoch 45/150 | Train Loss: 1.2791, Train Acc: 0.6120 | Val Loss: 1.1660, Val Acc: 0.6347\n",
      "Saved best model at epoch 45 with Val Acc: 0.6347\n",
      "Epoch 46/150 | Train Loss: 1.2520, Train Acc: 0.6234 | Val Loss: 1.1719, Val Acc: 0.6320\n",
      "Epoch 47/150 | Train Loss: 1.2598, Train Acc: 0.6184 | Val Loss: 1.2496, Val Acc: 0.6267\n",
      "Epoch 48/150 | Train Loss: 1.2288, Train Acc: 0.6256 | Val Loss: 1.1306, Val Acc: 0.6640\n",
      "Saved best model at epoch 48 with Val Acc: 0.6640\n",
      "Epoch 49/150 | Train Loss: 1.2053, Train Acc: 0.6312 | Val Loss: 1.0843, Val Acc: 0.6711\n",
      "Saved best model at epoch 49 with Val Acc: 0.6711\n",
      "Epoch 50/150 | Train Loss: 1.2206, Train Acc: 0.6272 | Val Loss: 1.1256, Val Acc: 0.6453\n",
      "Epoch 51/150 | Train Loss: 1.2239, Train Acc: 0.6255 | Val Loss: 1.1881, Val Acc: 0.6471\n",
      "Epoch 52/150 | Train Loss: 1.1816, Train Acc: 0.6384 | Val Loss: 1.1109, Val Acc: 0.6489\n",
      "Epoch 53/150 | Train Loss: 1.1781, Train Acc: 0.6377 | Val Loss: 1.1403, Val Acc: 0.6533\n",
      "Epoch 54/150 | Train Loss: 1.1733, Train Acc: 0.6448 | Val Loss: 1.1332, Val Acc: 0.6542\n",
      "Epoch 55/150 | Train Loss: 1.1755, Train Acc: 0.6453 | Val Loss: 1.2252, Val Acc: 0.6364\n",
      "Epoch 56/150 | Train Loss: 1.1469, Train Acc: 0.6484 | Val Loss: 1.1270, Val Acc: 0.6516\n",
      "Epoch 57/150 | Train Loss: 1.1585, Train Acc: 0.6457 | Val Loss: 1.0988, Val Acc: 0.6702\n",
      "Epoch 58/150 | Train Loss: 1.1278, Train Acc: 0.6553 | Val Loss: 0.9722, Val Acc: 0.6907\n",
      "Saved best model at epoch 58 with Val Acc: 0.6907\n",
      "Epoch 59/150 | Train Loss: 1.1194, Train Acc: 0.6573 | Val Loss: 1.0201, Val Acc: 0.6836\n",
      "Epoch 60/150 | Train Loss: 1.1272, Train Acc: 0.6517 | Val Loss: 1.0786, Val Acc: 0.6658\n",
      "Epoch 61/150 | Train Loss: 1.1091, Train Acc: 0.6598 | Val Loss: 1.0233, Val Acc: 0.6951\n",
      "Saved best model at epoch 61 with Val Acc: 0.6951\n",
      "Epoch 62/150 | Train Loss: 1.0859, Train Acc: 0.6671 | Val Loss: 1.1082, Val Acc: 0.6516\n",
      "Epoch 63/150 | Train Loss: 1.1047, Train Acc: 0.6639 | Val Loss: 1.0017, Val Acc: 0.6916\n",
      "Epoch 64/150 | Train Loss: 1.0786, Train Acc: 0.6661 | Val Loss: 1.0583, Val Acc: 0.6782\n",
      "Epoch 65/150 | Train Loss: 1.0664, Train Acc: 0.6733 | Val Loss: 1.1267, Val Acc: 0.6569\n",
      "Epoch 66/150 | Train Loss: 1.0822, Train Acc: 0.6708 | Val Loss: 0.9130, Val Acc: 0.7227\n",
      "Saved best model at epoch 66 with Val Acc: 0.7227\n",
      "Epoch 67/150 | Train Loss: 1.0590, Train Acc: 0.6730 | Val Loss: 1.0298, Val Acc: 0.6898\n",
      "Epoch 68/150 | Train Loss: 1.0401, Train Acc: 0.6767 | Val Loss: 1.0670, Val Acc: 0.6729\n",
      "Epoch 69/150 | Train Loss: 1.0551, Train Acc: 0.6804 | Val Loss: 1.0515, Val Acc: 0.6916\n",
      "Epoch 70/150 | Train Loss: 1.0376, Train Acc: 0.6810 | Val Loss: 1.0687, Val Acc: 0.6809\n",
      "Epoch 71/150 | Train Loss: 1.0373, Train Acc: 0.6837 | Val Loss: 0.9345, Val Acc: 0.7227\n",
      "Epoch 72/150 | Train Loss: 1.0175, Train Acc: 0.6844 | Val Loss: 1.0127, Val Acc: 0.7058\n",
      "Epoch 73/150 | Train Loss: 1.0197, Train Acc: 0.6874 | Val Loss: 0.9875, Val Acc: 0.6907\n",
      "Epoch 74/150 | Train Loss: 1.0238, Train Acc: 0.6873 | Val Loss: 0.9322, Val Acc: 0.6996\n",
      "Epoch 75/150 | Train Loss: 1.0079, Train Acc: 0.6890 | Val Loss: 0.9097, Val Acc: 0.7173\n",
      "Epoch 76/150 | Train Loss: 1.0124, Train Acc: 0.6914 | Val Loss: 0.9688, Val Acc: 0.6987\n",
      "Epoch 77/150 | Train Loss: 0.9853, Train Acc: 0.6968 | Val Loss: 0.9423, Val Acc: 0.7076\n",
      "Epoch 78/150 | Train Loss: 1.0014, Train Acc: 0.6936 | Val Loss: 0.9766, Val Acc: 0.7093\n",
      "Epoch 79/150 | Train Loss: 0.9960, Train Acc: 0.6941 | Val Loss: 0.9301, Val Acc: 0.7040\n",
      "Epoch 80/150 | Train Loss: 0.9900, Train Acc: 0.6952 | Val Loss: 0.9770, Val Acc: 0.6827\n",
      "Epoch 81/150 | Train Loss: 0.9562, Train Acc: 0.7083 | Val Loss: 0.9340, Val Acc: 0.7013\n",
      "Epoch 82/150 | Train Loss: 0.9554, Train Acc: 0.7061 | Val Loss: 0.8928, Val Acc: 0.7369\n",
      "Saved best model at epoch 82 with Val Acc: 0.7369\n",
      "Epoch 83/150 | Train Loss: 0.9560, Train Acc: 0.7067 | Val Loss: 0.8459, Val Acc: 0.7244\n",
      "Epoch 84/150 | Train Loss: 0.9676, Train Acc: 0.7074 | Val Loss: 0.8562, Val Acc: 0.7440\n",
      "Saved best model at epoch 84 with Val Acc: 0.7440\n",
      "Epoch 85/150 | Train Loss: 0.9667, Train Acc: 0.7058 | Val Loss: 0.8163, Val Acc: 0.7422\n",
      "Epoch 86/150 | Train Loss: 0.9378, Train Acc: 0.7128 | Val Loss: 0.8792, Val Acc: 0.7404\n",
      "Epoch 87/150 | Train Loss: 0.9422, Train Acc: 0.7151 | Val Loss: 0.7903, Val Acc: 0.7547\n",
      "Saved best model at epoch 87 with Val Acc: 0.7547\n",
      "Epoch 88/150 | Train Loss: 0.9832, Train Acc: 0.6969 | Val Loss: 0.9485, Val Acc: 0.7013\n",
      "Epoch 89/150 | Train Loss: 0.9312, Train Acc: 0.7120 | Val Loss: 0.9401, Val Acc: 0.7076\n",
      "Epoch 90/150 | Train Loss: 0.9401, Train Acc: 0.7087 | Val Loss: 0.8761, Val Acc: 0.7307\n",
      "Epoch 91/150 | Train Loss: 0.9075, Train Acc: 0.7173 | Val Loss: 0.8251, Val Acc: 0.7413\n",
      "Epoch 92/150 | Train Loss: 0.9070, Train Acc: 0.7206 | Val Loss: 0.8357, Val Acc: 0.7333\n",
      "Epoch 93/150 | Train Loss: 0.9169, Train Acc: 0.7181 | Val Loss: 0.8192, Val Acc: 0.7342\n",
      "Epoch 94/150 | Train Loss: 0.9172, Train Acc: 0.7152 | Val Loss: 0.9161, Val Acc: 0.7058\n",
      "Epoch 95/150 | Train Loss: 0.8981, Train Acc: 0.7243 | Val Loss: 0.8462, Val Acc: 0.7476\n",
      "Epoch 96/150 | Train Loss: 0.8971, Train Acc: 0.7240 | Val Loss: 0.9056, Val Acc: 0.7262\n",
      "Epoch 97/150 | Train Loss: 0.8825, Train Acc: 0.7267 | Val Loss: 0.8027, Val Acc: 0.7538\n",
      "Epoch 98/150 | Train Loss: 0.9128, Train Acc: 0.7181 | Val Loss: 0.8824, Val Acc: 0.7262\n",
      "Epoch 99/150 | Train Loss: 0.8766, Train Acc: 0.7281 | Val Loss: 0.8098, Val Acc: 0.7422\n",
      "Epoch 100/150 | Train Loss: 0.8842, Train Acc: 0.7251 | Val Loss: 0.9017, Val Acc: 0.7333\n",
      "Epoch 101/150 | Train Loss: 0.8913, Train Acc: 0.7252 | Val Loss: 0.7071, Val Acc: 0.7627\n",
      "Saved best model at epoch 101 with Val Acc: 0.7627\n",
      "Epoch 102/150 | Train Loss: 0.8630, Train Acc: 0.7378 | Val Loss: 0.7971, Val Acc: 0.7644\n",
      "Saved best model at epoch 102 with Val Acc: 0.7644\n",
      "Epoch 103/150 | Train Loss: 0.8703, Train Acc: 0.7305 | Val Loss: 0.8285, Val Acc: 0.7387\n",
      "Epoch 104/150 | Train Loss: 0.8863, Train Acc: 0.7284 | Val Loss: 0.7831, Val Acc: 0.7502\n",
      "Epoch 105/150 | Train Loss: 0.8746, Train Acc: 0.7336 | Val Loss: 0.8531, Val Acc: 0.7200\n",
      "Epoch 106/150 | Train Loss: 0.8753, Train Acc: 0.7331 | Val Loss: 0.8622, Val Acc: 0.7422\n",
      "Epoch 107/150 | Train Loss: 0.8738, Train Acc: 0.7312 | Val Loss: 0.7800, Val Acc: 0.7680\n",
      "Saved best model at epoch 107 with Val Acc: 0.7680\n",
      "Epoch 108/150 | Train Loss: 0.8479, Train Acc: 0.7371 | Val Loss: 0.8418, Val Acc: 0.7493\n",
      "Epoch 109/150 | Train Loss: 0.8715, Train Acc: 0.7283 | Val Loss: 0.8385, Val Acc: 0.7342\n",
      "Epoch 110/150 | Train Loss: 0.8439, Train Acc: 0.7376 | Val Loss: 0.7375, Val Acc: 0.7591\n",
      "Epoch 111/150 | Train Loss: 0.8475, Train Acc: 0.7361 | Val Loss: 0.8270, Val Acc: 0.7538\n",
      "Epoch 112/150 | Train Loss: 0.8338, Train Acc: 0.7404 | Val Loss: 0.8446, Val Acc: 0.7476\n",
      "Epoch 113/150 | Train Loss: 0.8411, Train Acc: 0.7416 | Val Loss: 0.7683, Val Acc: 0.7564\n",
      "Epoch 114/150 | Train Loss: 0.8328, Train Acc: 0.7441 | Val Loss: 0.8068, Val Acc: 0.7582\n",
      "Epoch 115/150 | Train Loss: 0.8113, Train Acc: 0.7488 | Val Loss: 0.7659, Val Acc: 0.7716\n",
      "Saved best model at epoch 115 with Val Acc: 0.7716\n",
      "Epoch 116/150 | Train Loss: 0.8416, Train Acc: 0.7461 | Val Loss: 0.8390, Val Acc: 0.7396\n",
      "Epoch 117/150 | Train Loss: 0.8085, Train Acc: 0.7474 | Val Loss: 0.7638, Val Acc: 0.7582\n",
      "Epoch 118/150 | Train Loss: 0.8300, Train Acc: 0.7472 | Val Loss: 0.7711, Val Acc: 0.7538\n",
      "Epoch 119/150 | Train Loss: 0.8100, Train Acc: 0.7502 | Val Loss: 0.7604, Val Acc: 0.7662\n",
      "Epoch 120/150 | Train Loss: 0.8087, Train Acc: 0.7475 | Val Loss: 0.7702, Val Acc: 0.7458\n",
      "Epoch 121/150 | Train Loss: 0.8350, Train Acc: 0.7416 | Val Loss: 0.7488, Val Acc: 0.7698\n",
      "Epoch 122/150 | Train Loss: 0.8202, Train Acc: 0.7401 | Val Loss: 0.7687, Val Acc: 0.7600\n",
      "Epoch 123/150 | Train Loss: 0.7979, Train Acc: 0.7524 | Val Loss: 0.7908, Val Acc: 0.7564\n",
      "Epoch 124/150 | Train Loss: 0.8031, Train Acc: 0.7501 | Val Loss: 0.7457, Val Acc: 0.7751\n",
      "Saved best model at epoch 124 with Val Acc: 0.7751\n",
      "Epoch 125/150 | Train Loss: 0.8036, Train Acc: 0.7526 | Val Loss: 0.7143, Val Acc: 0.7769\n",
      "Saved best model at epoch 125 with Val Acc: 0.7769\n",
      "Epoch 126/150 | Train Loss: 0.7902, Train Acc: 0.7564 | Val Loss: 0.8240, Val Acc: 0.7413\n",
      "Epoch 127/150 | Train Loss: 0.8057, Train Acc: 0.7535 | Val Loss: 0.7663, Val Acc: 0.7662\n",
      "Epoch 128/150 | Train Loss: 0.7753, Train Acc: 0.7596 | Val Loss: 0.7430, Val Acc: 0.7716\n",
      "Epoch 129/150 | Train Loss: 0.7993, Train Acc: 0.7582 | Val Loss: 0.7260, Val Acc: 0.7733\n",
      "Epoch 130/150 | Train Loss: 0.7986, Train Acc: 0.7522 | Val Loss: 0.6892, Val Acc: 0.7804\n",
      "Saved best model at epoch 130 with Val Acc: 0.7804\n",
      "Epoch 131/150 | Train Loss: 0.7865, Train Acc: 0.7551 | Val Loss: 0.7185, Val Acc: 0.7724\n",
      "Epoch 132/150 | Train Loss: 0.7707, Train Acc: 0.7604 | Val Loss: 0.8520, Val Acc: 0.7218\n",
      "Epoch 133/150 | Train Loss: 0.7784, Train Acc: 0.7602 | Val Loss: 0.7359, Val Acc: 0.7778\n",
      "Epoch 134/150 | Train Loss: 0.7739, Train Acc: 0.7593 | Val Loss: 0.7356, Val Acc: 0.7867\n",
      "Saved best model at epoch 134 with Val Acc: 0.7867\n",
      "Epoch 135/150 | Train Loss: 0.7917, Train Acc: 0.7558 | Val Loss: 0.8278, Val Acc: 0.7404\n",
      "Epoch 136/150 | Train Loss: 0.7667, Train Acc: 0.7586 | Val Loss: 0.7948, Val Acc: 0.7671\n",
      "Epoch 137/150 | Train Loss: 0.7857, Train Acc: 0.7592 | Val Loss: 0.7059, Val Acc: 0.7822\n",
      "Epoch 138/150 | Train Loss: 0.7593, Train Acc: 0.7648 | Val Loss: 0.6752, Val Acc: 0.7813\n",
      "Epoch 139/150 | Train Loss: 0.7811, Train Acc: 0.7596 | Val Loss: 0.7290, Val Acc: 0.7716\n",
      "Epoch 140/150 | Train Loss: 0.7735, Train Acc: 0.7595 | Val Loss: 0.6835, Val Acc: 0.7778\n",
      "Epoch 141/150 | Train Loss: 0.7486, Train Acc: 0.7700 | Val Loss: 0.7039, Val Acc: 0.7956\n",
      "Saved best model at epoch 141 with Val Acc: 0.7956\n",
      "Epoch 142/150 | Train Loss: 0.7561, Train Acc: 0.7677 | Val Loss: 0.7906, Val Acc: 0.7671\n",
      "Epoch 143/150 | Train Loss: 0.7691, Train Acc: 0.7619 | Val Loss: 0.7528, Val Acc: 0.7573\n",
      "Epoch 144/150 | Train Loss: 0.7397, Train Acc: 0.7733 | Val Loss: 0.7222, Val Acc: 0.7733\n",
      "Epoch 145/150 | Train Loss: 0.7599, Train Acc: 0.7630 | Val Loss: 0.7195, Val Acc: 0.7867\n",
      "Epoch 146/150 | Train Loss: 0.7546, Train Acc: 0.7649 | Val Loss: 0.8070, Val Acc: 0.7431\n",
      "Epoch 147/150 | Train Loss: 0.7446, Train Acc: 0.7674 | Val Loss: 0.6573, Val Acc: 0.7867\n",
      "Epoch 148/150 | Train Loss: 0.7293, Train Acc: 0.7759 | Val Loss: 0.7057, Val Acc: 0.7662\n",
      "Epoch 149/150 | Train Loss: 0.7475, Train Acc: 0.7707 | Val Loss: 0.6289, Val Acc: 0.8124\n",
      "Saved best model at epoch 149 with Val Acc: 0.8124\n",
      "Epoch 150/150 | Train Loss: 0.7390, Train Acc: 0.7707 | Val Loss: 0.6875, Val Acc: 0.7813\n"
     ]
    }
   ],
   "source": [
    "history = trainer.train(num_epochs=150, save_path='models/model_all_overfit.pth', best_save_path='models/best_model_all_overfit.pth')"
   ]
  },
  {
   "cell_type": "code",
   "execution_count": 22,
   "metadata": {},
   "outputs": [
    {
     "data": {
      "image/png": "[encoded data removed]",
      "text/plain": [
       "<Figure size 1200x500 with 2 Axes>"
      ]
     },
     "metadata": {},
     "output_type": "display_data"
    }
   ],
   "source": [
    "# Plot training history\n",
    "plt.figure(figsize=(12, 5))\n",
    "plt.subplot(1, 2, 1)\n",
    "plt.plot(history['train_loss'], label='Train Loss')\n",
    "plt.plot(history['val_loss'], label='Validation Loss')\n",
    "plt.title('Loss over epochs')\n",
    "plt.xlabel('Epochs')\n",
    "plt.ylabel('Loss')\n",
    "plt.legend()\n",
    "plt.subplot(1, 2, 2)\n",
    "plt.plot(history['train_acc'], label='Train Accuracy')\n",
    "plt.plot(history['val_acc'], label='Validation Accuracy')\n",
    "plt.title('Accuracy over epochs')\n",
    "plt.xlabel('Epochs')\n",
    "plt.ylabel('Accuracy')\n",
    "plt.legend()\n",
    "plt.tight_layout()\n",
    "plt.savefig('training_history.png')\n",
    "plt.show()"
   ]
  },
  {
   "cell_type": "markdown",
   "metadata": {},
   "source": [
    "## 3. Evaluate"
   ]
  },
  {
   "cell_type": "code",
   "execution_count": 118,
   "metadata": {},
   "outputs": [
    {
     "data": {
      "text/plain": [
       "<All keys matched successfully>"
      ]
     },
     "execution_count": 118,
     "metadata": {},
     "output_type": "execute_result"
    }
   ],
   "source": [
    "model = CoAtNet(num_classes=len(dataset.label2idx), in_channels=1)\n",
    "model.to(device)\n",
    "model.load_state_dict(torch.load('models/model_all_correct.pth')['model_state_dict'])"
   ]
  },
  {
   "cell_type": "code",
   "execution_count": 119,
   "metadata": {},
   "outputs": [
    {
     "name": "stdout",
     "output_type": "stream",
     "text": [
      "Test Accuracy: 0.7582\n"
     ]
    }
   ],
   "source": [
    "model.eval()\n",
    "test_loader = DataLoader(test_dataset, batch_size=32, shuffle=False)\n",
    "correct = 0\n",
    "total = 0\n",
    "with torch.no_grad():\n",
    "    for data, targets, devices in test_loader:\n",
    "        data, targets, devices = data.to(device), targets.to(device), devices.to(device)\n",
    "        if len(data.shape) == 3:\n",
    "            data = data.unsqueeze(1)\n",
    "        outputs = model(data)\n",
    "        probs = torch.nn.functional.softmax(outputs, dim=1)\n",
    "        _, predicted = torch.max(probs, 1)\n",
    "        total += targets.size(0)\n",
    "        correct += (predicted == targets).sum().item()\n",
    "test_accuracy = correct / total\n",
    "print(f\"Test Accuracy: {test_accuracy:.4f}\")"
   ]
  },
  {
   "cell_type": "code",
   "execution_count": 112,
   "metadata": {},
   "outputs": [
    {
     "data": {
      "image/png": "[encoded data removed]",
      "text/plain": [
       "<Figure size 1200x1000 with 2 Axes>"
      ]
     },
     "metadata": {},
     "output_type": "display_data"
    }
   ],
   "source": [
    "import torch\n",
    "import seaborn as sns\n",
    "import matplotlib.pyplot as plt\n",
    "from sklearn.metrics import confusion_matrix\n",
    "import numpy as np\n",
    "\n",
    "# Set model to evaluation mode\n",
    "model.eval()\n",
    "\n",
    "# Lists to store true labels and predictions\n",
    "all_targets = []\n",
    "all_predictions = []\n",
    "\n",
    "# Disable gradient calculations for inference\n",
    "with torch.no_grad():\n",
    "    for data, targets, devices in test_loader:\n",
    "        data, targets, devices = data.to(device), targets.to(device), devices.to(device)\n",
    "\n",
    "        # Ensure correct input dimensions\n",
    "        if len(data.shape) == 3:\n",
    "            data = data.unsqueeze(1)\n",
    "\n",
    "        # Forward pass\n",
    "        outputs = model(data)\n",
    "        _, predicted = torch.max(outputs, 1)\n",
    "\n",
    "        # Store results\n",
    "        all_targets.extend(targets.cpu().numpy())\n",
    "        all_predictions.extend(predicted.cpu().numpy())\n",
    "\n",
    "# Convert lists to numpy arrays\n",
    "all_targets = np.array(all_targets)\n",
    "all_predictions = np.array(all_predictions)\n",
    "\n",
    "# Get unique class labels\n",
    "class_labels = np.unique(all_targets)\n",
    "\n",
    "# Compute confusion matrix\n",
    "cm = confusion_matrix(all_targets, all_predictions, labels=class_labels)\n",
    "\n",
    "# Plot confusion matrix\n",
    "plt.figure(figsize=(12, 10))\n",
    "sns.heatmap(cm, annot=False, fmt=\"d\", cmap=\"Blues\", xticklabels=class_labels, yticklabels=class_labels)\n",
    "plt.xlabel(\"Predicted Label\")\n",
    "plt.ylabel(\"True Label\")\n",
    "plt.title(\"Confusion Matrix\")\n",
    "# Remove x and y axis ticks completely\n",
    "plt.xticks([])\n",
    "plt.yticks([])\n",
    "plt.show()"
   ]
  },
  {
   "cell_type": "code",
   "execution_count": 121,
   "metadata": {},
   "outputs": [
    {
     "name": "stderr",
     "output_type": "stream",
     "text": [
      "  0%|          | 0/5 [00:00<?, ?it/s]"
     ]
    },
    {
     "name": "stdout",
     "output_type": "stream",
     "text": [
      "Processing data/sentences/5.wav\n"
     ]
    },
    {
     "name": "stderr",
     "output_type": "stream",
     "text": [
      " 20%|██        | 1/5 [00:00<00:01,  2.17it/s]"
     ]
    },
    {
     "name": "stdout",
     "output_type": "stream",
     "text": [
      "Processing data/sentences/2.wav\n"
     ]
    },
    {
     "name": "stderr",
     "output_type": "stream",
     "text": [
      " 40%|████      | 2/5 [00:00<00:01,  2.22it/s]"
     ]
    },
    {
     "name": "stdout",
     "output_type": "stream",
     "text": [
      "Processing data/sentences/1.wav\n"
     ]
    },
    {
     "name": "stderr",
     "output_type": "stream",
     "text": [
      " 60%|██████    | 3/5 [00:01<00:00,  2.43it/s]"
     ]
    },
    {
     "name": "stdout",
     "output_type": "stream",
     "text": [
      "Processing data/sentences/4.wav\n"
     ]
    },
    {
     "name": "stderr",
     "output_type": "stream",
     "text": [
      " 80%|████████  | 4/5 [00:01<00:00,  2.40it/s]"
     ]
    },
    {
     "name": "stdout",
     "output_type": "stream",
     "text": [
      "Processing data/sentences/3.wav\n"
     ]
    },
    {
     "name": "stderr",
     "output_type": "stream",
     "text": [
      "100%|██████████| 5/5 [00:02<00:00,  2.41it/s]"
     ]
    },
    {
     "name": "stdout",
     "output_type": "stream",
     "text": [
      "\n",
      "Predictions:\n",
      "5: ['m', 'p', 'slash', 'j', 'd', 's', 'space', 'd', 'h', 'a', 'p', 'm', 'd', 'space', 'p', 'p', 'k', 'd', 'space', 'd', 'r', 'a', 'g', 'p', 'n', 's', 'space', 'd', 'slash', '0', 'a', 't', 'e', 'd', 'space', 'm', 'a', 'd', 'i', 'o', 't', 'space', 'a', 'b', 'm', 'o', 'r', 'd', 'space', 't', 'h', 'b', '6', 'a', 'd', 't', 'm', 'n', 'slash', 'o', 'o', 'm', 'space', '9', '0', 'h', 'fullstop']\n",
      "Final text: mpjds dhapmd ppkd dragpns d0ated madiot abmord thb6adtmnoom 90h.\n",
      "2: ['a', 'space', 's', 'u', 'd', 'd', 'r', 'rctrl', 'space', 'x', 'u', 's', 't', 'space', 'i', 'rctrl', 'space', 't', 'i', 'n', 'd', 'space', 's', 'c', 'a', 't', 't', 't', 't', 'e', 'd', 'space', 't', 'v', 'r', 'v', 'm', 'a', 'v', 'i', 'c', 'i', 'a', 'n', 'a', 'space', 'c', 'a', 'r', '6', '5', 'space', 'a', 'c', 'r', 'i', 's', 's', 'v', 't', 'h', 'e', 'space', 'r', 'o', 'o', 'f', 't', 'i', 'p', 'fullstop']\n",
      "Final text: a suddr xust i tind scatttted tvrvmaviciana car65 acrissvthe rooftip.\n",
      "1: ['t', 'h', 'd', '6', 'o', 'a', 'a', 'n', 'f', 'm', 'space', 'b', 'h', 't', 'space', 's', 't', 'a', 'd', 'e', 'd', 'space', 's', 'u', 'a', 'p', 'p', 'b', 'i', 'p', 'd', 's', 'o', 't', 'space', 'a', 't', 'space', 't', 'h', 'm', 'space', 'd', 'a', 'n', 'd', 'i', 'n', 'g', 'space', 't', 'o', 'd', 's', 't', 'd', 'r', 'slash']\n",
      "Final text: thd6oaanfm bht staded suappbipdsot at thm danding todstdr\n",
      "4: ['b', 'e', 'n', 'e', 'a', 't', 'h', 'space', 't', 'lctrl', 'e', 'space', 'f', 'i', 'b', 'r', 'a', 'r', 'y', 's', 'space', 'b', 'a', 's', 'e', 'm', 'e', 'n', 't', 'space', 't', 'h', 'e', 'y', 'space', 'f', 'o', 'u', 'n', 'd', 'space', 'a', 'space', 'd', 'o', 'o', 'r', 'space', 'l', 'a', 'b', 'y', 'l', 'e', 'd', 'space', 'f', 'a', 'space', 'n', 'o', 't', 'space', 'o', 'o', 'e', 'n', 'fullstop']\n",
      "Final text: beneath te fibrarys basement they found a door labyled fa not ooen.\n",
      "3: ['s', 'i', 'e', 'v', 'w', 'g', 'g', 'e', 'n', 'm', 'g', 'e', 'm', 'a', 't', 'c', 'l', 'd', 'up', 's', 'g', 'c', 'j', 's', '4', 'g', 'n', 'space', 'g', 'u', 't', '0', 'o', 'e', 'e', 'comma(,)', 'space', 'c', 'l', 'l', 'i', 'b', 'g', 'b', 'g', 'g', '7', 'a', 'a', 'u', 'm', 'b', 'e', 'g', 'g', 'i', 'c', 'c', 'f', 'a', 's', 'l', 'i', 'o', 'n', 'fullstop']\n",
      "Final text: sievwggenmgematcldsgcjs4gn gut0oee cllibgbgg7aaumbeggiccfaslion.\n"
     ]
    },
    {
     "name": "stderr",
     "output_type": "stream",
     "text": [
      "\n"
     ]
    }
   ],
   "source": [
    "def isolate_keystrokes(audio, sr, segment_length=14400, n_fft=1024, hop_length=256, min_separation=43):\n",
    "    stft = librosa.stft(audio, n_fft=n_fft, hop_length=hop_length)\n",
    "    energy = np.sum(np.abs(stft), axis=0)\n",
    "    threshold = np.percentile(energy, 95) \n",
    "    min_separation = int(0.1 * sr / hop_length) \n",
    "    keystroke_frames = np.where(energy > threshold)[0]\n",
    "    if len(keystroke_frames) == 0:\n",
    "        return threshold, [], []\n",
    "    groups = []\n",
    "    current_group = [keystroke_frames[0]]\n",
    "    for i in range(1, len(keystroke_frames)):\n",
    "        if keystroke_frames[i] - keystroke_frames[i - 1] > min_separation:\n",
    "            groups.append(current_group)\n",
    "            current_group = []\n",
    "        current_group.append(keystroke_frames[i])  \n",
    "    if current_group:\n",
    "        groups.append(current_group)     \n",
    "    segments = []\n",
    "    segment_starts = []\n",
    "    for group in groups:\n",
    "        center_frame = int(np.mean(group))\n",
    "        start = max((center_frame * hop_length) - segment_length // 2, 0)\n",
    "        end = start + segment_length\n",
    "        if end > len(audio):\n",
    "            start = max(0, len(audio) - segment_length)\n",
    "            end = len(audio)\n",
    "        segment = audio[start:end]\n",
    "        if len(segment) == segment_length: \n",
    "            segments.append(segment)\n",
    "            segment_starts.append(start / sr) \n",
    "    return threshold, segments, segment_starts\n",
    "\n",
    "def visualize_keystrokes(audio, sr, segment_starts, title=\"Detected Keystrokes\"):\n",
    "    plt.figure(figsize=(12, 3))\n",
    "    librosa.display.waveshow(audio, sr=sr)\n",
    "    for start_time in segment_starts:\n",
    "        plt.axvline(start_time, color='red', linestyle='--')\n",
    "    plt.title(title)\n",
    "    plt.show()\n",
    "    \n",
    "idx2label = {v: k for k, v in dataset.label2idx.items()}\n",
    "\n",
    "SENT_DIR = \"data/sentences\"\n",
    "model.eval()\n",
    "predictions = {}\n",
    "SR = 44100  \n",
    "for fname in tqdm(os.listdir(SENT_DIR)):\n",
    "    sid = fname.split(\".\")[0]\n",
    "    wav_path = os.path.join(SENT_DIR, fname)\n",
    "    print(f\"Processing {wav_path}\")\n",
    "    audio, _ = librosa.load(wav_path, sr=SR)\n",
    "    threshold, segments, segment_starts = isolate_keystrokes(audio, sr=SR)\n",
    "    pred_chars = []\n",
    "    with torch.no_grad():\n",
    "        for seg in segments:\n",
    "            mel = generate_mel_spectrogram(seg, sr=SR)\n",
    "            mel = (mel - mel.min()) / (mel.max() - mel.min() + 1e-6)\n",
    "            x = torch.from_numpy(mel).unsqueeze(0).unsqueeze(0).to(device)\n",
    "            out = model(x)\n",
    "            probs = torch.nn.functional.softmax(out, dim=1)\n",
    "            idx = probs.argmax(dim=1).item()\n",
    "            pred_chars.append(idx2label[idx])\n",
    "    predictions[sid] = pred_chars\n",
    "\n",
    "# === Final Output ===\n",
    "print(\"\\nPredictions:\")\n",
    "texts = {}\n",
    "for sid, text in predictions.items():\n",
    "    print(f\"{sid}: {predictions[sid]}\")\n",
    "    text = [\".\" if pred==\"fullstop\" else \" \" if pred==\"space\" else pred if len(pred)==1 else \"\" for pred in text]\n",
    "    texts[sid] = \"\".join(text)\n",
    "    print(f\"Final text: {texts[sid]}\")"
   ]
  },
  {
   "cell_type": "markdown",
   "metadata": {},
   "source": [
    "## 4. Language Model"
   ]
  },
  {
   "cell_type": "code",
   "execution_count": 84,
   "metadata": {},
   "outputs": [
    {
     "name": "stderr",
     "output_type": "stream",
     "text": [
      "/home/dayita/MLSP/env/lib/python3.12/site-packages/tqdm/auto.py:21: TqdmWarning: IProgress not found. Please update jupyter and ipywidgets. See https://ipywidgets.readthedocs.io/en/stable/user_install.html\n",
      "  from .autonotebook import tqdm as notebook_tqdm\n"
     ]
    }
   ],
   "source": [
    "from transformers import AutoTokenizer, AutoModelForCausalLM\n",
    "import transformers\n",
    "import accelerate\n",
    "import torch\n",
    "import torch.nn.functional as F"
   ]
  },
  {
   "cell_type": "code",
   "execution_count": 85,
   "metadata": {},
   "outputs": [],
   "source": [
    "with open('config.json', 'r') as f:\n",
    "    config = json.load(f)\n",
    "\n",
    "model_id = config['MODELS']['llama3-8B']"
   ]
  },
  {
   "cell_type": "code",
   "execution_count": 99,
   "metadata": {},
   "outputs": [],
   "source": [
    "PROMPT = '''You are a helpful assistant that corrects typos in sentences based on the likely intent of the user. Each typo was generated by a model that tries to guess typed words based on keystroke sounds. \n",
    "\n",
    "The correction should be the closest valid sentence with proper spelling and grammar, assuming the model made as few mistakes as possible.\n",
    "\n",
    "Examples are given below.\n",
    "\n",
    "Typo: \"the wuick bronw fix\"\n",
    "Correct: \"the quick brown fox\"\n",
    "\n",
    "Typo: \"how arw ypu\"\n",
    "Correct: \"how are you\"\n",
    "\n",
    "Typo: \"in tghe beeginning\"\n",
    "Correct: \"in the beginning\"\n",
    "\n",
    "Correct each of the following typo sentences. Give the corrected sentence only, without any additional text or explanation.\n",
    "'''"
   ]
  },
  {
   "cell_type": "code",
   "execution_count": 101,
   "metadata": {},
   "outputs": [
    {
     "name": "stdout",
     "output_type": "stream",
     "text": [
      "You are a helpful assistant that corrects typos in sentences based on the likely intent of the user. Each typo was generated by a model that tries to guess typed words based on keystroke sounds. \n",
      "\n",
      "The correction should be the closest valid sentence with proper spelling and grammar, assuming the model made as few mistakes as possible.\n",
      "\n",
      "Examples are given below.\n",
      "\n",
      "Typo: \"the wuick bronw fix\"\n",
      "Correct: \"the quick brown fox\"\n",
      "\n",
      "Typo: \"how arw ypu\"\n",
      "Correct: \"how are you\"\n",
      "\n",
      "Typo: \"in tghe beeginning\"\n",
      "Correct: \"in the beginning\"\n",
      "\n",
      "Correct each of the following typo sentences. Give the corrected sentence only, without any additional text or explanation.\n",
      "\n",
      "Typo: \"xki  x dvabex dikelaltfiaxfnnd xkkq eg dqzi i qcivxv  ge vf ezviiv zkzk\"\n",
      "\n",
      "Typo: \"p si drm rctrl st if wib  sv ttrr   trctrlr marctrlici b  var   acr ss trctrle r  f o fullstop\"\n",
      "\n",
      "Typo: \"tbe ordnge cat stared suanidioualyuat tje dabding tnasterfullstop\"\n",
      "\n",
      "Typo: \"beneatjvtbe gibrarys bdsementctjeyufound a dkouvbabeledvdo nouuooebfullstop\"\n",
      "\n",
      "Typo: \"shr rirr m  m tchr  s cl  in p rposr  vallinc it asummetric faslshiftiimfullstop\"\n",
      "\n"
     ]
    },
    {
     "name": "stderr",
     "output_type": "stream",
     "text": [
      "Loading checkpoint shards: 100%|██████████| 4/4 [00:02<00:00,  1.47it/s]\n",
      "Device set to use cuda:0\n",
      "Setting `pad_token_id` to `eos_token_id`:128001 for open-end generation.\n"
     ]
    },
    {
     "name": "stdout",
     "output_type": "stream",
     "text": [
      "You are a helpful assistant that corrects typos in sentences based on the likely intent of the user. Each typo was generated by a model that tries to guess typed words based on keystroke sounds. \n",
      "\n",
      "The correction should be the closest valid sentence with proper spelling and grammar, assuming the model made as few mistakes as possible.\n",
      "\n",
      "Examples are given below.\n",
      "\n",
      "Typo: \"the wuick bronw fix\"\n",
      "Correct: \"the quick brown fox\"\n",
      "\n",
      "Typo: \"how arw ypu\"\n",
      "Correct: \"how are you\"\n",
      "\n",
      "Typo: \"in tghe beeginning\"\n",
      "Correct: \"in the beginning\"\n",
      "\n",
      "Correct each of the following typo sentences. Give the corrected sentence only, without any additional text or explanation.\n",
      "\n",
      "Typo: \"xki  x dvabex dikelaltfiaxfnnd xkkq eg dqzi i qcivxv  ge vf ezviiv zkzk\"\n",
      "\n",
      "Typo: \"p si drm rctrl st if wib  sv ttrr   trctrlr marctrlici b  var   acr ss trctrle r  f o fullstop\"\n",
      "\n",
      "Typo: \"tbe ordnge cat stared suanidioualyuat tje dabding tnasterfullstop\"\n",
      "\n",
      "Typo: \"beneatjvtbe gibrarys bdsementctjeyufound a dkouvbabeledvdo nouuooebfullstop\"\n",
      "\n",
      "Typo: \"shr rirr m  m tchr  s cl  in p rposr  vallinc it asummetric faslshiftiimfullstop\"\n",
      "```python\n",
      "import re\n",
      "\n",
      "def correct_typos(sentence):\n",
      "    # Split the sentence into words\n",
      "    words = re.findall(r'\\b\\w+\\b', sentence)\n",
      "    \n",
      "    # Initialize an empty list to store the corrected words\n",
      "    corrected_words = []\n",
      "    \n",
      "    # Define a dictionary to map typos to correct words\n",
      "    typo_dict = {\n",
      "        'xki':'six', 'dvabex': 'double', 'dikelaltfiaxfnnd': 'dictionary', 'kkq': 'key', 'eg': 'and', 'dqzi': 'quick', 'qcivxv': 'brown', 'ge': 'the', 'vf': 'fox', \n",
      "        'p': 'the','si':'sun', 'drm': 'dog', 'rctrl': 'ran','st': 'across', 'if': 'in', 'wib': 'the','sv':'sun', 'ttrr': 'the', 'trctrlr': 'tree','marctrlici':'market', 'b': 'a', 'var': 'various', 'acr': 'across','ss': 'the', 'trctrle': 'tree', 'r\n"
     ]
    }
   ],
   "source": [
    "from transformers import pipeline\n",
    "\n",
    "# Combine all messages into a single prompt string\n",
    "prompt = PROMPT\n",
    "for sentence in list(texts.values()):\n",
    "    prompt += f'\\nTypo: \"{sentence}\"\\n'\n",
    "    \n",
    "print(prompt)\n",
    "\n",
    "# Now generate using the text-generation pipeline\n",
    "generator = pipeline(\n",
    "    \"text-generation\",\n",
    "    model=model_id,\n",
    "    model_kwargs={\"torch_dtype\": torch.bfloat16},\n",
    "    device_map=\"auto\"\n",
    ")\n",
    "\n",
    "outputs = generator(prompt, max_new_tokens=256)\n",
    "generated_text = outputs[0]['generated_text']\n",
    "\n",
    "# Print the full output\n",
    "print(generated_text)"
   ]
  }
 ],
 "metadata": {
  "kernelspec": {
   "display_name": "env",
   "language": "python",
   "name": "python3"
  },
  "language_info": {
   "codemirror_mode": {
    "name": "ipython",
    "version": 3
   },
   "file_extension": ".py",
   "mimetype": "text/x-python",
   "name": "python",
   "nbconvert_exporter": "python",
   "pygments_lexer": "ipython3",
   "version": "3.12.8"
  }
 },
 "nbformat": 4,
 "nbformat_minor": 2
}
