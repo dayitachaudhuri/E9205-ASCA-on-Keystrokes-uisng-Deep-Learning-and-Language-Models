{
 "cells": [
  {
   "cell_type": "code",
   "execution_count": 1,
   "id": "e7f70c2e",
   "metadata": {},
   "outputs": [
    {
     "name": "stdout",
     "output_type": "stream",
     "text": [
      "env: CUDA_VISIBLE_DEVICES=1,2\n"
     ]
    }
   ],
   "source": [
    "%env CUDA_VISIBLE_DEVICES=1,2"
   ]
  },
  {
   "cell_type": "code",
   "execution_count": 5,
   "id": "aad13f23",
   "metadata": {},
   "outputs": [],
   "source": [
    "import librosa\n",
    "import numpy as np\n",
    "import torch\n",
    "import torch.nn as nn\n",
    "import torch.nn.functional as F"
   ]
  },
  {
   "cell_type": "code",
   "execution_count": 4,
   "id": "356f1046",
   "metadata": {},
   "outputs": [],
   "source": [
    "def extract_asd(audio, sr, n_fft=512, hop_length=128):\n",
    "    stft = librosa.stft(audio, n_fft=n_fft, hop_length=hop_length)\n",
    "    magnitude = np.abs(stft)\n",
    "    asd = np.mean(magnitude, axis=0)\n",
    "    return asd"
   ]
  },
  {
   "cell_type": "code",
   "execution_count": 6,
   "id": "768e2b35",
   "metadata": {},
   "outputs": [],
   "source": [
    "class KeystrokeCountCNN(nn.Module):\n",
    "    def __init__(self, max_keystrokes=3):\n",
    "        super().__init__()\n",
    "        self.conv1 = nn.Conv1d(1, 8, 3, padding=1)\n",
    "        self.conv2 = nn.Conv1d(8, 16, 3, padding=1)\n",
    "        self.pool = nn.AdaptiveAvgPool1d(32)\n",
    "        self.fc1 = nn.Linear(32 * 16, 64)\n",
    "        self.fc2 = nn.Linear(64, max_keystrokes + 1) \n",
    "\n",
    "    def forward(self, x):\n",
    "        x = x.unsqueeze(1)\n",
    "        x = F.relu(self.conv1(x))\n",
    "        x = F.relu(self.conv2(x))\n",
    "        x = self.pool(x)\n",
    "        x = x.view(x.size(0), -1)\n",
    "        x = F.relu(self.fc1(x))\n",
    "        return self.fc2(x)"
   ]
  },
  {
   "cell_type": "code",
   "execution_count": 9,
   "id": "f6ffb968",
   "metadata": {},
   "outputs": [],
   "source": [
    "from scipy.signal import find_peaks, peak_prominences\n",
    "\n",
    "def estimate_keystroke_onsets(audio, sr, hop_length=128, segment_length=14400, max_peaks=3):\n",
    "    asd = extract_asd(audio, sr, hop_length=hop_length)\n",
    "    peaks, _ = find_peaks(asd, distance=5)\n",
    "    prominences = peak_prominences(asd, peaks)[0]\n",
    "\n",
    "    ranked_peaks = [peak for _, peak in sorted(zip(prominences, peaks), reverse=True)]\n",
    "    onset_samples = [(p * hop_length) for p in ranked_peaks[:max_peaks]]\n",
    "\n",
    "    return onset_samples\n",
    "\n",
    "def segment_from_onsets(audio, sr, onsets, segment_length=14400):\n",
    "    segments = []\n",
    "    for onset in onsets:\n",
    "        start = max(onset - segment_length // 2, 0)\n",
    "        end = min(start + segment_length, len(audio))\n",
    "        if end - start == segment_length:\n",
    "            segments.append(audio[start:end])\n",
    "    return segments"
   ]
  },
  {
   "cell_type": "code",
   "execution_count": 10,
   "id": "9a8e0e55",
   "metadata": {},
   "outputs": [],
   "source": [
    "def chameleon_pipeline(audio, sr, count_model, device='cpu'):\n",
    "    # Preprocess audio to mono if needed\n",
    "    if audio.ndim > 1:\n",
    "        audio = np.mean(audio, axis=0)\n",
    "\n",
    "    # === Step 1: ASD ===\n",
    "    asd = extract_asd(audio, sr)\n",
    "    asd_tensor = torch.tensor(asd, dtype=torch.float32).unsqueeze(0).to(device)\n",
    "\n",
    "    # === Step 2: Predict Keystroke Count ===\n",
    "    with torch.no_grad():\n",
    "        logits = count_model(asd_tensor)\n",
    "        pred_count = torch.argmax(logits, dim=1).item()\n",
    "\n",
    "    # === Step 3: Predict Onsets ===\n",
    "    onsets = estimate_keystroke_onsets(audio, sr, max_peaks=pred_count)\n",
    "\n",
    "    # === Step 4: Segment ===\n",
    "    segments = segment_from_onsets(audio, sr, onsets)\n",
    "    return segments, onsets"
   ]
  }
 ],
 "metadata": {
  "kernelspec": {
   "display_name": "base",
   "language": "python",
   "name": "python3"
  },
  "language_info": {
   "codemirror_mode": {
    "name": "ipython",
    "version": 3
   },
   "file_extension": ".py",
   "mimetype": "text/x-python",
   "name": "python",
   "nbconvert_exporter": "python",
   "pygments_lexer": "ipython3",
   "version": "3.12.8"
  }
 },
 "nbformat": 4,
 "nbformat_minor": 5
}
